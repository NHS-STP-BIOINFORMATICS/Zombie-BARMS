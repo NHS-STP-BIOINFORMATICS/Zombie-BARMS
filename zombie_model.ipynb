{
 "metadata": {
  "name": "zombie_model"
 },
 "nbformat": 3,
 "nbformat_minor": 0,
 "worksheets": [
  {
   "cells": [
    {
     "cell_type": "code",
     "collapsed": false,
     "input": "%matplotlib inline\n\nimport scipy.integrate as spi\nimport numpy as np\nimport pylab as pl",
     "language": "python",
     "metadata": {},
     "outputs": [],
     "prompt_number": 66
    },
    {
     "cell_type": "markdown",
     "metadata": {},
     "source": "Set modifier values"
    },
    {
     "cell_type": "code",
     "collapsed": false,
     "input": "#Person and Zombie\n\nz_infecting = 0.4\np_killedby_z = 0.1\nz_creates_i = 0.25\nz_killedby_p = 0.75\n\n#Person and Immune\n\ni_infecting = 0.25\ni_creates_i = 0.075\n\n#Zombie no mates\nz_starves = 0.05\n\n#Immune and Zombie\ni_killedby_z = 0.5\nz_killedby_i = 0.2475",
     "language": "python",
     "metadata": {},
     "outputs": [],
     "prompt_number": 81
    },
    {
     "cell_type": "markdown",
     "metadata": {},
     "source": "Set the Population starting parameters.\n*NB: must be a proportion*"
    },
    {
     "cell_type": "code",
     "collapsed": false,
     "input": "P = 0.8\nZ = 0.0\nI = 0.2\nD = 0.0\n\nif sum([P,Z,I,D]) != 1.0:\n    print \"Your proportions are wrong\"\n\nstart_values = (P,Z,I,D)",
     "language": "python",
     "metadata": {},
     "outputs": [],
     "prompt_number": 85
    },
    {
     "cell_type": "markdown",
     "metadata": {},
     "source": "Set time parameters"
    },
    {
     "cell_type": "code",
     "collapsed": false,
     "input": "t_start = 0.0\nt_end = 100\nt_step = 1",
     "language": "python",
     "metadata": {},
     "outputs": [],
     "prompt_number": 69
    },
    {
     "cell_type": "code",
     "collapsed": false,
     "input": "def time_range(t_start, t_end, t_step):\n    '''\n    Return step range of sampling points for iteration.\n    '''\n    t_ranges = np.arange(t_start, t_end + t_step, t_step)\n    return t_ranges",
     "language": "python",
     "metadata": {},
     "outputs": [],
     "prompt_number": 70
    },
    {
     "cell_type": "code",
     "collapsed": false,
     "input": "t_ranges = time_range(t_start, t_end, t_step)",
     "language": "python",
     "metadata": {},
     "outputs": [],
     "prompt_number": 71
    },
    {
     "cell_type": "code",
     "collapsed": false,
     "input": "def calc_P(P,Z,I,D):\n    out_P = - (z_infecting * (P * Z)) - (i_infecting * (P * I)) - (p_killedby_z * (P * Z)) - (z_creates_i * (P * Z)) - (i_creates_i * (P * I))\n    return out_P",
     "language": "python",
     "metadata": {},
     "outputs": [],
     "prompt_number": 72
    },
    {
     "cell_type": "code",
     "collapsed": false,
     "input": "def calc_Z(P,Z,I,D):\n    out_Z = (z_infecting * (P * Z)) + (i_infecting * (P * I)) - (z_killedby_p * (P * Z)) - (z_killedby_i * (I * Z)) - (z_starves * Z)\n    return out_Z",
     "language": "python",
     "metadata": {},
     "outputs": [],
     "prompt_number": 73
    },
    {
     "cell_type": "code",
     "collapsed": false,
     "input": "def calc_I(P,Z,I,D):\n    out_I = (z_creates_i * (P * Z)) + (i_creates_i * (P * I)) - (i_killedby_z * (I * Z))\n    return out_I",
     "language": "python",
     "metadata": {},
     "outputs": [],
     "prompt_number": 74
    },
    {
     "cell_type": "code",
     "collapsed": false,
     "input": "def calc_D(P,Z,I,D):\n    out_D = (p_killedby_z * (P * Z)) + (i_killedby_z * (I * Z)) + (z_killedby_p * (P * Z)) + (z_killedby_i * (Z * I)) + (z_starves * Z)\n    return out_D",
     "language": "python",
     "metadata": {},
     "outputs": [],
     "prompt_number": 75
    },
    {
     "cell_type": "code",
     "collapsed": false,
     "input": "def diffeq(INP, t):\n    OUT = np.zeros((4))\n    mP,mZ,mI,mD = INP\n    OUT[0] = calc_P(mP,mZ,mI,mD)\n    OUT[1] = calc_Z(mP,mZ,mI,mD)\n    OUT[2] = calc_I(mP,mZ,mI,mD)\n    OUT[3] = calc_D(mP,mZ,mI,mD)\n    return OUT",
     "language": "python",
     "metadata": {},
     "outputs": [],
     "prompt_number": 76
    },
    {
     "cell_type": "code",
     "collapsed": false,
     "input": "RES = spi.odeint(diffeq,start_values,t_ranges)",
     "language": "python",
     "metadata": {},
     "outputs": [],
     "prompt_number": 86
    },
    {
     "cell_type": "code",
     "collapsed": false,
     "input": "def plot_graph(RES):\n    pl.close()\n    pl.plot(RES[:,0], '-bo', label = 'People')\n    pl.plot(RES[:,1], '-ro', label = 'Zombies')\n    pl.plot(RES[:,2], '-go', label = 'Immune')\n    pl.plot(RES[:,3], '-yo', label = 'Dead')\n    pl.legend(loc = 0)\n    pl.title('Zombie apocalypse')\n    pl.xlabel('Time')\n    pl.ylabel('Numbers')\n    #pl.savefig('2.5_SIS-high.png', dpi = 900)\n    pl.show()",
     "language": "python",
     "metadata": {},
     "outputs": [],
     "prompt_number": 78
    },
    {
     "cell_type": "code",
     "collapsed": false,
     "input": "observed = RES[:,0]\nexpected = [0.7,0.57582525,0.44145637,0.31872655,0.22099319,0.15023086,0.10178351,0.06947228,0.04806533,0.03381077]\n\ntotal = 0\n\nfor i,item in enumerate(expected):\n    total += (item - observed[i]) ** 2\n    \nprint total\n    ",
     "language": "python",
     "metadata": {},
     "outputs": [
      {
       "output_type": "stream",
       "stream": "stdout",
       "text": "0.0332838936197\n"
      }
     ],
     "prompt_number": 79
    },
    {
     "cell_type": "code",
     "collapsed": false,
     "input": "plot_graph(RES)plot_graph(RES)",
     "language": "python",
     "metadata": {},
     "outputs": [
      {
       "metadata": {},
       "output_type": "display_data",
       "png": "[encoded data removed]",
       "text": "<matplotlib.figure.Figure at 0xa3bbac8>"
      }
     ],
     "prompt_number": 87
    }
   ],
   "metadata": {}
  }
 ]
}
