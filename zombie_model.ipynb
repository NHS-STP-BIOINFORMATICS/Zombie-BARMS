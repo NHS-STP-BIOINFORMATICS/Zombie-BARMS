{
 "metadata": {
  "name": "zombie_model"
 },
 "nbformat": 3,
 "nbformat_minor": 0,
 "worksheets": [
  {
   "cells": [
    {
     "cell_type": "code",
     "collapsed": false,
     "input": "import scipy.integrate as spi\nimport numpy as np\nimport pylab as pl\n",
     "language": "python",
     "metadata": {},
     "outputs": [],
     "prompt_number": 23
    },
    {
     "cell_type": "code",
     "collapsed": false,
     "input": "#Person and Zombie\n\nz_infecting = 0.4\np_killedby_z = 0.0\nz_creates_i = 0.25\nz_killedby_p = 0.05\n\n#Person and Immune\n\ni_infecting = 0.25\ni_creates_i = 0.075\n\n#Zombie no mates\nz_starves = 0.05\n\n#Immune and Zombie\ni_killedby_z = 0.5\nz_killedby_i = 0.2475\n\n\n\ndata_points = 100\ntime_step = 1\n\nP = 0.7\nZ = 0.1\nI = 0.2\nD = 0.0\n\nstart_values = (P,Z,I,D)",
     "language": "python",
     "metadata": {},
     "outputs": [],
     "prompt_number": 24
    },
    {
     "cell_type": "code",
     "collapsed": false,
     "input": "t_start = 0.0; t_end = data_points; t_inc = time_step\nt_ranges = np.arange(t_start, t_end + t_inc, t_inc)",
     "language": "python",
     "metadata": {},
     "outputs": [],
     "prompt_number": 25
    },
    {
     "cell_type": "code",
     "collapsed": false,
     "input": "def diffeq(INP, t):\n    OUT = np.zeros((4))\n    P,Z,I,D = INP\n    OUT[0] = - (z_infecting * (P * Z)) - (i_infecting * (P * I)) - (p_killedby_z * (P * Z)) - (z_creates_i * (P * Z)) - (i_creates_i * (P * I))\n    OUT[1] = (z_infecting * (P * Z)) + (i_infecting * (P * I)) - (z_killedby_p * (P * Z)) - (z_killedby_i * (I * Z)) - (z_starves * Z)\n    OUT[2] = (z_creates_i * (P * Z)) + (i_creates_i * (P * I)) - (i_killedby_z * (I * Z))\n    OUT[3] = (p_killedby_z * (P * Z)) + (i_killedby_z * (I * Z)) + (z_killedby_p * (P * Z)) + (z_killedby_i * (Z * I)) + (z_starves * Z)\n    return OUT\n",
     "language": "python",
     "metadata": {},
     "outputs": [],
     "prompt_number": 26
    },
    {
     "cell_type": "code",
     "collapsed": false,
     "input": "RES = spi.odeint(diffeq,start_values,t_ranges)",
     "language": "python",
     "metadata": {},
     "outputs": [],
     "prompt_number": 27
    },
    {
     "cell_type": "code",
     "collapsed": false,
     "input": "pl.plot(RES[:,0], '-bo', label = 'People')\npl.plot(RES[:,1], '-ro', label = 'Zombies')\npl.plot(RES[:,2], '-go', label = 'Immune')\npl.plot(RES[:,3], '-yo', label = 'Dead')\n\npl.legend(loc = 0)\npl.title('Zombie apocalypse')\npl.xlabel('Time')\npl.ylabel('Numbers')\npl.savefig('2.5_SIS-high.png', dpi = 900)\npl.show()",
     "language": "python",
     "metadata": {},
     "outputs": [],
     "prompt_number": 28
    },
    {
     "cell_type": "code",
     "collapsed": false,
     "input": "observed = RES[:,0]\nexpected = [0.7,0.57582525,0.44145637,0.31872655,0.22099319,0.15023086,0.10178351,0.06947228,0.04806533,0.03381077]\n\ntotal = 0\n\nfor i,item in enumerate(expected):\n    total += (item - observed[i]) ** 2\n    \nprint total\n    ",
     "language": "python",
     "metadata": {},
     "outputs": [
      {
       "output_type": "stream",
       "stream": "stdout",
       "text": "0.0539289612223\n"
      }
     ],
     "prompt_number": 29
    },
    {
     "cell_type": "code",
     "collapsed": false,
     "input": "",
     "language": "python",
     "metadata": {},
     "outputs": [],
     "prompt_number": 29
    }
   ],
   "metadata": {}
  }
 ]
}
