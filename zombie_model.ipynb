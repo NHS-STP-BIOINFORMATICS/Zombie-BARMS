{
 "metadata": {
  "name": "Untitled0"
 },
 "nbformat": 3,
 "nbformat_minor": 0,
 "worksheets": [
  {
   "cells": [
    {
     "cell_type": "code",
     "collapsed": false,
     "input": "import scipy.integrate as spi\nimport numpy as np\nimport pylab as pl\n",
     "language": "python",
     "metadata": {},
     "outputs": [],
     "prompt_number": 42
    },
    {
     "cell_type": "code",
     "collapsed": false,
     "input": "z_infecting = 0.001\ni_infecting = 0.009\nz_killedby_p = 0.01\nz_starves = 0.05\np_killedby_z = 0.005\nz_creates_i = 0.075\ni_creates_i = 0.005\ni_killedby_z = 0.005\nz_killedby_i = 0.01\ndata_points = 5000\ntime_step = 1\n\nP = 0.9\nZ = 0.01\nI = 0.09\nD = 0.0\n\nstart_values = (P,Z,I,D)",
     "language": "python",
     "metadata": {},
     "outputs": [],
     "prompt_number": 43
    },
    {
     "cell_type": "code",
     "collapsed": false,
     "input": "t_start = 0.0; t_end = data_points; t_inc = time_step\nt_ranges = np.arange(t_start, t_end + t_inc, t_inc)",
     "language": "python",
     "metadata": {},
     "outputs": [],
     "prompt_number": 44
    },
    {
     "cell_type": "code",
     "collapsed": false,
     "input": "def diffeq(INP, t):\n    OUT = np.zeros((4))\n    P,Z,I,D = INP\n    OUT[0] = - (z_infecting * (P * Z)) - (i_infecting * (P * I)) - (p_killedby_z * (P * Z)) - (z_creates_i * (P * Z)) - (i_creates_i * (P * I))\n    OUT[1] = (z_infecting * (P * Z)) + (i_infecting * (P * I)) - (z_killedby_p * (P * Z)) - (z_killedby_i * (I * Z)) - (z_starves * Z)\n    OUT[2] = (z_creates_i * (P * Z)) + (i_creates_i * (P * I)) - (i_killedby_z * (I * Z))\n    OUT[3] = (p_killedby_z * (P * Z)) + (i_killedby_z * (I * Z)) + (z_killedby_p * (P * Z)) + (z_killedby_i * (Z * I)) + (z_starves * Z)\n    return OUT\n",
     "language": "python",
     "metadata": {},
     "outputs": [],
     "prompt_number": 45
    },
    {
     "cell_type": "code",
     "collapsed": false,
     "input": "RES = spi.odeint(diffeq,start_values,t_ranges)\n",
     "language": "python",
     "metadata": {},
     "outputs": [],
     "prompt_number": 46
    },
    {
     "cell_type": "code",
     "collapsed": false,
     "input": "pl.plot(RES[:,0], '-bo', label = 'People')\npl.plot(RES[:,1], '-ro', label = 'Zombies')\npl.plot(RES[:,2], '-go', label = 'Immune')\npl.plot(RES[:,3], '-yo', label = 'Dead')\n\npl.legend(loc = 0)\npl.title('Zombie apocalypse')\npl.xlabel('Time')\npl.ylabel('Numbers')\npl.savefig('2.5_SIS-high.png', dpi = 900)\npl.show()",
     "language": "python",
     "metadata": {},
     "outputs": [],
     "prompt_number": 47
    },
    {
     "cell_type": "code",
     "collapsed": false,
     "input": "",
     "language": "python",
     "metadata": {},
     "outputs": [],
     "prompt_number": 47
    }
   ],
   "metadata": {}
  }
 ]
}